{
 "cells": [
  {
   "cell_type": "code",
   "execution_count": 5,
   "metadata": {},
   "outputs": [
    {
     "name": "stdout",
     "output_type": "stream",
     "text": [
      "\u001b[32;1m\u001b[1;3m[llm/start]\u001b[0m \u001b[1m[1:llm:AzureChatOpenAI] Entering LLM run with input:\n",
      "\u001b[0m{\n",
      "  \"prompts\": [\n",
      "    \"Human: What would be a good company name for a company that makes colorful socks? give me five options\\nSystem: Suggest company name start with 'C'\"\n",
      "  ]\n",
      "}\n",
      "\u001b[36;1m\u001b[1;3m[llm/end]\u001b[0m \u001b[1m[1:llm:AzureChatOpenAI] [3.25s] Exiting LLM run with output:\n",
      "\u001b[0m{\n",
      "  \"generations\": [\n",
      "    [\n",
      "      {\n",
      "        \"text\": \"1. Colorful Comfort Co.\\n2. Chromatic Sock Creations\\n3. ColorSocks Inc.\\n4. Crayon Feet Enterprises\\n5. Carnival Threads Ltd.\",\n",
      "        \"generation_info\": {\n",
      "          \"finish_reason\": \"stop\"\n",
      "        },\n",
      "        \"type\": \"ChatGeneration\",\n",
      "        \"message\": {\n",
      "          \"lc\": 1,\n",
      "          \"type\": \"constructor\",\n",
      "          \"id\": [\n",
      "            \"langchain\",\n",
      "            \"schema\",\n",
      "            \"messages\",\n",
      "            \"AIMessage\"\n",
      "          ],\n",
      "          \"kwargs\": {\n",
      "            \"content\": \"1. Colorful Comfort Co.\\n2. Chromatic Sock Creations\\n3. ColorSocks Inc.\\n4. Crayon Feet Enterprises\\n5. Carnival Threads Ltd.\",\n",
      "            \"additional_kwargs\": {}\n",
      "          }\n",
      "        }\n",
      "      }\n",
      "    ]\n",
      "  ],\n",
      "  \"llm_output\": {\n",
      "    \"token_usage\": {\n",
      "      \"prompt_tokens\": 39,\n",
      "      \"completion_tokens\": 37,\n",
      "      \"total_tokens\": 76\n",
      "    },\n",
      "    \"model_name\": \"gpt-4-gpt-3.5-turbo\"\n",
      "  },\n",
      "  \"run\": null\n",
      "}\n"
     ]
    },
    {
     "data": {
      "text/plain": [
       "AIMessage(content='1. Colorful Comfort Co.\\n2. Chromatic Sock Creations\\n3. ColorSocks Inc.\\n4. Crayon Feet Enterprises\\n5. Carnival Threads Ltd.')"
      ]
     },
     "execution_count": 5,
     "metadata": {},
     "output_type": "execute_result"
    }
   ],
   "source": [
    "from langchain.schema import HumanMessage, SystemMessage\n",
    "from helper import make_chat_model\n",
    "from langchain.globals import set_debug\n",
    "\n",
    "set_debug(True)\n",
    "\n",
    "chat_model = make_chat_model()\n",
    "\n",
    "messages = [\n",
    "    HumanMessage(\n",
    "        content=\"What would be a good company name for a company that makes colorful socks? give me five options\"\n",
    "    ),\n",
    "    SystemMessage(content=\"Suggest company name start with 'C'\"),\n",
    "]\n",
    "\n",
    "chat_model.predict_messages(messages)"
   ]
  }
 ],
 "metadata": {
  "kernelspec": {
   "display_name": ".venv",
   "language": "python",
   "name": "python3"
  },
  "language_info": {
   "codemirror_mode": {
    "name": "ipython",
    "version": 3
   },
   "file_extension": ".py",
   "mimetype": "text/x-python",
   "name": "python",
   "nbconvert_exporter": "python",
   "pygments_lexer": "ipython3",
   "version": "3.11.4"
  }
 },
 "nbformat": 4,
 "nbformat_minor": 2
}
