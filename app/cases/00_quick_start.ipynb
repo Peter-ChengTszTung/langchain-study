{
 "cells": [
  {
   "cell_type": "code",
   "execution_count": 1,
   "id": "8d442c3a-355e-4a17-a8e5-014be55f119b",
   "metadata": {},
   "outputs": [],
   "source": [
    "from langchain.chat_models import AzureChatOpenAI\n",
    "import config"
   ]
  },
  {
   "cell_type": "code",
   "execution_count": 2,
   "id": "e5ce0a7b-dac4-4079-93f2-3795ef17b42d",
   "metadata": {},
   "outputs": [],
   "source": [
    "chat_model = AzureChatOpenAI(\n",
    "    openai_api_type=config.OPENAI_API_TYPE,\n",
    "    openai_api_key=config.OPENAI_API_KEY,\n",
    "    openai_api_base=config.OPENAI_API_BASE,\n",
    "    openai_api_version=config.OPENAI_API_VERSION,\n",
    "    deployment_name=config.AZURE_DEPLOYMENT,\n",
    "    model_version=config.AZURE_CHAT_MODEL,\n",
    ")"
   ]
  },
  {
   "cell_type": "code",
   "execution_count": 3,
   "id": "803bc147-dad1-44ad-888b-e0aa2d9af0d3",
   "metadata": {},
   "outputs": [
    {
     "data": {
      "text/plain": [
       "'Hello! How can I assist you today?'"
      ]
     },
     "execution_count": 3,
     "metadata": {},
     "output_type": "execute_result"
    }
   ],
   "source": [
    "chat_model.predict(\"hi!\")"
   ]
  },
  {
   "cell_type": "code",
   "execution_count": 39,
   "id": "ac2fdaee-f9f5-4845-aa39-2ac9eb11c6b6",
   "metadata": {},
   "outputs": [],
   "source": [
    "text = \"What would be a good company name for a company that makes colorful socks? give me five options\""
   ]
  },
  {
   "cell_type": "code",
   "execution_count": 40,
   "id": "12f51259-ad1a-4572-9274-4312797db0c1",
   "metadata": {},
   "outputs": [
    {
     "data": {
      "text/plain": [
       "'1. Spectrum Socks Co.\\n2. Kaleidoscope Footwear\\n3. Rainbow Threads\\n4. Chroma Comfort Socks\\n5. Prism Peds.'"
      ]
     },
     "execution_count": 40,
     "metadata": {},
     "output_type": "execute_result"
    }
   ],
   "source": [
    "chat_model.predict(text)"
   ]
  },
  {
   "cell_type": "code",
   "execution_count": 44,
   "id": "631defae-3d5d-4651-9f44-e8658e418dd6",
   "metadata": {},
   "outputs": [
    {
     "data": {
      "text/plain": [
       "AIMessage(content='1. \"Rainbow Steps\"\\n2. \"Vibrant Footprints\"\\n3. \"ColorStride Socks\"\\n4. \"Kaleidoscope Kicks\"\\n5. \"BrightSocks Co.\"')"
      ]
     },
     "execution_count": 44,
     "metadata": {},
     "output_type": "execute_result"
    }
   ],
   "source": [
    "from typing import List\n",
    "from langchain.schema import HumanMessage, BaseMessage, AIMessage, SystemMessage\n",
    "\n",
    "messages :List[BaseMessage]= [HumanMessage(content=text)]\n",
    "\n",
    "ai_message = chat_model.predict_messages(messages)\n",
    "ai_message"
   ]
  },
  {
   "cell_type": "code",
   "execution_count": 46,
   "metadata": {},
   "outputs": [],
   "source": [
    "messages.append(ai_message)\n",
    "messages.append(HumanMessage(content=\"Could you pick one for me?\"))\n"
   ]
  },
  {
   "cell_type": "code",
   "execution_count": 47,
   "metadata": {},
   "outputs": [
    {
     "data": {
      "text/plain": [
       "AIMessage(content='Sure, I would suggest \"ColorStride Socks\".')"
      ]
     },
     "execution_count": 47,
     "metadata": {},
     "output_type": "execute_result"
    }
   ],
   "source": [
    "\n",
    "ai_message = chat_model.predict_messages(messages)\n",
    "ai_message"
   ]
  },
  {
   "cell_type": "code",
   "execution_count": 48,
   "metadata": {},
   "outputs": [],
   "source": [
    "messages.append(ai_message)\n",
    "messages.append(\n",
    "    HumanMessage(content=\"Could you suggest one with yello element?\")\n",
    ")"
   ]
  },
  {
   "cell_type": "code",
   "execution_count": 49,
   "metadata": {},
   "outputs": [
    {
     "data": {
      "text/plain": [
       "AIMessage(content='Of course, how about \"SunnySteps Socks\"?')"
      ]
     },
     "execution_count": 49,
     "metadata": {},
     "output_type": "execute_result"
    }
   ],
   "source": [
    "\n",
    "ai_message = chat_model.predict_messages(messages)\n",
    "ai_message"
   ]
  }
 ],
 "metadata": {
  "kernelspec": {
   "display_name": "Python 3 (ipykernel)",
   "language": "python",
   "name": "python3"
  },
  "language_info": {
   "codemirror_mode": {
    "name": "ipython",
    "version": 3
   },
   "file_extension": ".py",
   "mimetype": "text/x-python",
   "name": "python",
   "nbconvert_exporter": "python",
   "pygments_lexer": "ipython3",
   "version": "3.11.4"
  }
 },
 "nbformat": 4,
 "nbformat_minor": 5
}
