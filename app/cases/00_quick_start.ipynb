{
 "cells": [
  {
   "cell_type": "code",
   "execution_count": 16,
   "id": "8d442c3a-355e-4a17-a8e5-014be55f119b",
   "metadata": {},
   "outputs": [],
   "source": [
    "from helper import make_chat_model"
   ]
  },
  {
   "cell_type": "code",
   "execution_count": 17,
   "id": "e5ce0a7b-dac4-4079-93f2-3795ef17b42d",
   "metadata": {},
   "outputs": [],
   "source": [
    "chat_model = make_chat_model()"
   ]
  },
  {
   "cell_type": "code",
   "execution_count": 18,
   "id": "803bc147-dad1-44ad-888b-e0aa2d9af0d3",
   "metadata": {},
   "outputs": [
    {
     "data": {
      "text/plain": [
       "'Hello! How can I assist you today?'"
      ]
     },
     "execution_count": 18,
     "metadata": {},
     "output_type": "execute_result"
    }
   ],
   "source": [
    "chat_model.predict(\"hi!\")"
   ]
  },
  {
   "cell_type": "code",
   "execution_count": 19,
   "id": "ac2fdaee-f9f5-4845-aa39-2ac9eb11c6b6",
   "metadata": {},
   "outputs": [],
   "source": [
    "text = \"What would be a good company name for a company that makes colorful socks? give me five options\""
   ]
  },
  {
   "cell_type": "code",
   "execution_count": 20,
   "id": "12f51259-ad1a-4572-9274-4312797db0c1",
   "metadata": {},
   "outputs": [
    {
     "data": {
      "text/plain": [
       "'1. Rainbow Steps\\n2. Vibrant Toes\\n3. ChromaFoot\\n4. ColorPulse Socks\\n5. Spectrum Strides'"
      ]
     },
     "execution_count": 20,
     "metadata": {},
     "output_type": "execute_result"
    }
   ],
   "source": [
    "chat_model.predict(text)"
   ]
  },
  {
   "cell_type": "code",
   "execution_count": 21,
   "id": "631defae-3d5d-4651-9f44-e8658e418dd6",
   "metadata": {},
   "outputs": [
    {
     "data": {
      "text/plain": [
       "AIMessage(content='1. ChromaFoot\\n2. RainbowSteps\\n3. HueSocks\\n4. SpectrumStride\\n5. VibrantTreads')"
      ]
     },
     "execution_count": 21,
     "metadata": {},
     "output_type": "execute_result"
    }
   ],
   "source": [
    "from typing import List\n",
    "from langchain.schema import HumanMessage, BaseMessage, AIMessage, SystemMessage\n",
    "\n",
    "messages: List[BaseMessage] = [HumanMessage(content=text)]\n",
    "\n",
    "ai_message = chat_model.predict_messages(messages)\n",
    "ai_message"
   ]
  },
  {
   "cell_type": "code",
   "execution_count": 22,
   "metadata": {},
   "outputs": [],
   "source": [
    "messages.append(ai_message)\n",
    "messages.append(HumanMessage(content=\"Could you pick one for me?\"))"
   ]
  },
  {
   "cell_type": "code",
   "execution_count": 23,
   "metadata": {},
   "outputs": [
    {
     "data": {
      "text/plain": [
       "AIMessage(content='Sure, how about \"ChromaFoot\"?')"
      ]
     },
     "execution_count": 23,
     "metadata": {},
     "output_type": "execute_result"
    }
   ],
   "source": [
    "ai_message = chat_model.predict_messages(messages)\n",
    "ai_message"
   ]
  },
  {
   "cell_type": "code",
   "execution_count": 24,
   "metadata": {},
   "outputs": [],
   "source": [
    "messages.append(ai_message)\n",
    "messages.append(HumanMessage(content=\"Could you suggest one with yellow element?\"))"
   ]
  },
  {
   "cell_type": "code",
   "execution_count": 25,
   "metadata": {},
   "outputs": [
    {
     "data": {
      "text/plain": [
       "AIMessage(content='Absolutely, how about \"SunshineSteppers\"?')"
      ]
     },
     "execution_count": 25,
     "metadata": {},
     "output_type": "execute_result"
    }
   ],
   "source": [
    "ai_message = chat_model.predict_messages(messages)\n",
    "ai_message"
   ]
  },
  {
   "cell_type": "code",
   "execution_count": 26,
   "metadata": {},
   "outputs": [
    {
     "data": {
      "text/plain": [
       "AIMessage(content='1. ChromaFootwear\\n2. ColorfulSteps\\n3. CrazyRainbow Socks\\n4. ColorStride\\n5. CircusSocks')"
      ]
     },
     "execution_count": 26,
     "metadata": {},
     "output_type": "execute_result"
    }
   ],
   "source": [
    "messages = [\n",
    "    HumanMessage(\n",
    "        content=\"What would be a good company name for a company that makes colorful socks? give me five options\"\n",
    "    ),\n",
    "    SystemMessage(content=\"Suggest company name start with 'C'\"),\n",
    "]\n",
    "\n",
    "chat_model.predict_messages(messages)\n",
    "\n"
   ]
  }
 ],
 "metadata": {
  "kernelspec": {
   "display_name": "Python 3 (ipykernel)",
   "language": "python",
   "name": "python3"
  },
  "language_info": {
   "codemirror_mode": {
    "name": "ipython",
    "version": 3
   },
   "file_extension": ".py",
   "mimetype": "text/x-python",
   "name": "python",
   "nbconvert_exporter": "python",
   "pygments_lexer": "ipython3",
   "version": "3.11.4"
  }
 },
 "nbformat": 4,
 "nbformat_minor": 5
}
