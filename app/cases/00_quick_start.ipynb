{
 "cells": [
  {
   "cell_type": "code",
   "execution_count": 2,
   "id": "8d442c3a-355e-4a17-a8e5-014be55f119b",
   "metadata": {},
   "outputs": [],
   "source": [
    "from helper import make_chat_model"
   ]
  },
  {
   "cell_type": "code",
   "execution_count": 3,
   "id": "e5ce0a7b-dac4-4079-93f2-3795ef17b42d",
   "metadata": {},
   "outputs": [],
   "source": [
    "chat_model = make_chat_model()"
   ]
  },
  {
   "cell_type": "code",
   "execution_count": 4,
   "id": "803bc147-dad1-44ad-888b-e0aa2d9af0d3",
   "metadata": {},
   "outputs": [
    {
     "data": {
      "text/plain": [
       "'Hello! How can I assist you today?'"
      ]
     },
     "execution_count": 4,
     "metadata": {},
     "output_type": "execute_result"
    }
   ],
   "source": [
    "chat_model.predict(\"hi!\")"
   ]
  },
  {
   "cell_type": "code",
   "execution_count": 5,
   "id": "ac2fdaee-f9f5-4845-aa39-2ac9eb11c6b6",
   "metadata": {},
   "outputs": [],
   "source": [
    "text = \"What would be a good company name for a company that makes colorful socks? give me five options\""
   ]
  },
  {
   "cell_type": "code",
   "execution_count": 6,
   "id": "12f51259-ad1a-4572-9274-4312797db0c1",
   "metadata": {},
   "outputs": [
    {
     "data": {
      "text/plain": [
       "'1. Spectrum Soles\\n2. ChromaticSteps\\n3. ColorStride Socks\\n4. RainbowThreads\\n5. VibrantFeet Creations'"
      ]
     },
     "execution_count": 6,
     "metadata": {},
     "output_type": "execute_result"
    }
   ],
   "source": [
    "chat_model.predict(text)"
   ]
  },
  {
   "cell_type": "code",
   "execution_count": 7,
   "id": "631defae-3d5d-4651-9f44-e8658e418dd6",
   "metadata": {},
   "outputs": [
    {
     "data": {
      "text/plain": [
       "AIMessage(content='1. Rainbow Threads\\n2. ChromaFootwear\\n3. VividStep Socks\\n4. ColorStride\\n5. Kaleidoscope Soles')"
      ]
     },
     "execution_count": 7,
     "metadata": {},
     "output_type": "execute_result"
    }
   ],
   "source": [
    "from typing import List\n",
    "from langchain.schema import HumanMessage, BaseMessage, AIMessage, SystemMessage\n",
    "\n",
    "messages :List[BaseMessage]= [HumanMessage(content=text)]\n",
    "\n",
    "ai_message = chat_model.predict_messages(messages)\n",
    "ai_message"
   ]
  },
  {
   "cell_type": "code",
   "execution_count": 8,
   "metadata": {},
   "outputs": [],
   "source": [
    "messages.append(ai_message)\n",
    "messages.append(HumanMessage(content=\"Could you pick one for me?\"))\n"
   ]
  },
  {
   "cell_type": "code",
   "execution_count": 9,
   "metadata": {},
   "outputs": [
    {
     "data": {
      "text/plain": [
       "AIMessage(content='Sure, \"Rainbow Threads\" would be a vibrant and appealing choice for a company making colorful socks.')"
      ]
     },
     "execution_count": 9,
     "metadata": {},
     "output_type": "execute_result"
    }
   ],
   "source": [
    "\n",
    "ai_message = chat_model.predict_messages(messages)\n",
    "ai_message"
   ]
  },
  {
   "cell_type": "code",
   "execution_count": 10,
   "metadata": {},
   "outputs": [],
   "source": [
    "messages.append(ai_message)\n",
    "messages.append(\n",
    "    HumanMessage(content=\"Could you suggest one with yellow element?\")\n",
    ")"
   ]
  },
  {
   "cell_type": "code",
   "execution_count": 11,
   "metadata": {},
   "outputs": [
    {
     "data": {
      "text/plain": [
       "AIMessage(content='Absolutely! How about \"Sunshine Sock Co.\" or \"YellowFoot Threads\"?')"
      ]
     },
     "execution_count": 11,
     "metadata": {},
     "output_type": "execute_result"
    }
   ],
   "source": [
    "\n",
    "ai_message = chat_model.predict_messages(messages)\n",
    "ai_message"
   ]
  },
  {
   "cell_type": "code",
   "execution_count": 14,
   "metadata": {},
   "outputs": [
    {
     "data": {
      "text/plain": [
       "AIMessage(content='1. Chromatic Comfort Socks\\n2. Colorful Cozies\\n3. Crayon Sock Creations\\n4. Color Cascade Socks\\n5. Carnival of Colors Socks')"
      ]
     },
     "execution_count": 14,
     "metadata": {},
     "output_type": "execute_result"
    }
   ],
   "source": [
    "\n",
    "\n",
    "messages = [\n",
    "    HumanMessage(content=\"What would be a good company name for a company that makes colorful socks? give me five options\"),\n",
    "    SystemMessage(content=\"Suggest company name start with 'C'\")\n",
    "]\n",
    "\n",
    "chat_model.predict_messages(messages)"
   ]
  }
 ],
 "metadata": {
  "kernelspec": {
   "display_name": "Python 3 (ipykernel)",
   "language": "python",
   "name": "python3"
  },
  "language_info": {
   "codemirror_mode": {
    "name": "ipython",
    "version": 3
   },
   "file_extension": ".py",
   "mimetype": "text/x-python",
   "name": "python",
   "nbconvert_exporter": "python",
   "pygments_lexer": "ipython3",
   "version": "3.11.4"
  }
 },
 "nbformat": 4,
 "nbformat_minor": 5
}
