{
 "cells": [
  {
   "cell_type": "code",
   "execution_count": 3,
   "metadata": {},
   "outputs": [
    {
     "name": "stdout",
     "output_type": "stream",
     "text": [
      "['654a126381d0bc94e1710938', '654a1263a1558827cb6f7e64']\n"
     ]
    }
   ],
   "source": [
    "import json\n",
    "from helper import make_embeddings\n",
    "\n",
    "from langchain.text_splitter import CharacterTextSplitter\n",
    "from langchain.vectorstores.docarray import DocArrayInMemorySearch\n",
    "from langchain.document_loaders import JSONLoader\n",
    "\n",
    "\n",
    "def metadata_func(record: dict, metadata: dict) -> dict:\n",
    "    metadata[\"id\"] = record.get(\"id\")\n",
    "    metadata[\"first_name\"] = record.get(\"firstName\")\n",
    "    metadata[\"last_name\"] = record.get(\"lastName\")\n",
    "\n",
    "    return metadata\n",
    "\n",
    "\n",
    "with open(\"../modules/user.json\") as f:\n",
    "    data = json.load(f)\n",
    "\n",
    "\n",
    "loader = JSONLoader(\n",
    "    \"../modules/user.json\",\n",
    "    jq_schema=\".[]\",\n",
    "    content_key=\"about\",\n",
    "    metadata_func=metadata_func,\n",
    ")\n",
    "\n",
    "documents = loader.load()\n",
    "\n",
    "text_splitter = CharacterTextSplitter(chunk_size=1000, chunk_overlap=0)\n",
    "\n",
    "docs = text_splitter.split_documents(documents)\n",
    "\n",
    "embeddings = make_embeddings()\n",
    "\n",
    "\n",
    "db = DocArrayInMemorySearch.from_documents(docs, embeddings)\n",
    "\n",
    "query = \"adipisicing\"\n",
    "docs = db.similarity_search(query, k =2)\n",
    "\n",
    "print(list(map(lambda x: x.metadata[\"id\"], docs)))"
   ]
  }
 ],
 "metadata": {
  "kernelspec": {
   "display_name": ".venv",
   "language": "python",
   "name": "python3"
  },
  "language_info": {
   "codemirror_mode": {
    "name": "ipython",
    "version": 3
   },
   "file_extension": ".py",
   "mimetype": "text/x-python",
   "name": "python",
   "nbconvert_exporter": "python",
   "pygments_lexer": "ipython3",
   "version": "3.11.4"
  }
 },
 "nbformat": 4,
 "nbformat_minor": 2
}
