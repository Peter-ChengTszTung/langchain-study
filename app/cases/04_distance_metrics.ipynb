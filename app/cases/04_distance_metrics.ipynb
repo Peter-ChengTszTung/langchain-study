{
 "cells": [
  {
   "cell_type": "code",
   "execution_count": 23,
   "metadata": {},
   "outputs": [],
   "source": [
    "# https://python.langchain.com/docs/guides/evaluation/string/embedding_distance\n",
    "\n",
    "from langchain.evaluation import EmbeddingDistance, load_evaluator\n",
    "from langchain.embeddings import HuggingFaceEmbeddings, SpacyEmbeddings\n",
    "from langchain.embeddings.base import Embeddings\n",
    "from helper import make_embeddings\n",
    "\n",
    "ada_embeddings = make_embeddings()\n",
    "hugging_face_embeddings = HuggingFaceEmbeddings()\n",
    "spacy_embeddings = SpacyEmbeddings()\n",
    "\n",
    "text_original = \"I shall go\"\n",
    "text_opposite = \"I shan't go\"\n",
    "text_simliar = \"I will go\"\n"
   ]
  },
  {
   "cell_type": "code",
   "execution_count": 24,
   "metadata": {},
   "outputs": [],
   "source": [
    "def run_embedding_distance_case(embeddings: Embeddings, metric :EmbeddingDistance):\n",
    "    print(\"metric\", metric.name)\n",
    "    evaluator = load_evaluator(\"embedding_distance\", embeddings=embeddings, distance_metric=metric)\n",
    "    distance_a = evaluator.evaluate_strings(prediction=text_original, reference=text_opposite)[\"score\"]\n",
    "    # print(\"distance_a\", distance_a)\n",
    "    distance_b = evaluator.evaluate_strings(prediction=text_original, reference=text_simliar)[\"score\"]\n",
    "    # print(\"distance_b\", distance_b)\n",
    "    diff = abs(distance_a - distance_b)\n",
    "    if distance_a < distance_b:\n",
    "        print(\"Incorrect\", diff)\n",
    "    else:\n",
    "        print(\"Correct\", diff)\n",
    "\n"
   ]
  },
  {
   "cell_type": "code",
   "execution_count": 25,
   "metadata": {},
   "outputs": [
    {
     "name": "stdout",
     "output_type": "stream",
     "text": [
      "metric COSINE\n",
      "Correct 0.059122047002837186\n",
      "metric EUCLIDEAN\n",
      "Correct 0.165510957931359\n",
      "metric MANHATTAN\n",
      "Correct 5.131426016576139\n",
      "metric CHEBYSHEV\n",
      "Correct 0.021672650595010383\n"
     ]
    }
   ],
   "source": [
    "run_embedding_distance_case(ada_embeddings, EmbeddingDistance.COSINE)\n",
    "run_embedding_distance_case(ada_embeddings, EmbeddingDistance.EUCLIDEAN)\n",
    "run_embedding_distance_case(ada_embeddings, EmbeddingDistance.MANHATTAN)\n",
    "run_embedding_distance_case(ada_embeddings, EmbeddingDistance.CHEBYSHEV)\n"
   ]
  },
  {
   "cell_type": "code",
   "execution_count": 26,
   "metadata": {},
   "outputs": [
    {
     "name": "stdout",
     "output_type": "stream",
     "text": [
      "metric COSINE\n",
      "Correct 0.33845588211537436\n",
      "metric EUCLIDEAN\n",
      "Correct 0.3991504823511227\n",
      "metric MANHATTAN\n",
      "Correct 8.62121908978844\n",
      "metric CHEBYSHEV\n",
      "Correct 0.06994136609137058\n"
     ]
    }
   ],
   "source": [
    "run_embedding_distance_case(hugging_face_embeddings, EmbeddingDistance.COSINE)\n",
    "run_embedding_distance_case(hugging_face_embeddings, EmbeddingDistance.EUCLIDEAN)\n",
    "run_embedding_distance_case(hugging_face_embeddings, EmbeddingDistance.MANHATTAN)\n",
    "run_embedding_distance_case(hugging_face_embeddings, EmbeddingDistance.CHEBYSHEV)"
   ]
  },
  {
   "cell_type": "code",
   "execution_count": 27,
   "metadata": {},
   "outputs": [
    {
     "name": "stdout",
     "output_type": "stream",
     "text": [
      "metric COSINE\n",
      "Correct 0.18769721829879338\n",
      "metric EUCLIDEAN\n",
      "Correct 1.7894340400280806\n",
      "metric MANHATTAN\n",
      "Correct 16.047470546793193\n",
      "metric CHEBYSHEV\n",
      "Correct 0.5207570840138942\n"
     ]
    }
   ],
   "source": [
    "run_embedding_distance_case(spacy_embeddings, EmbeddingDistance.COSINE)\n",
    "run_embedding_distance_case(spacy_embeddings, EmbeddingDistance.EUCLIDEAN)\n",
    "run_embedding_distance_case(spacy_embeddings, EmbeddingDistance.MANHATTAN)\n",
    "run_embedding_distance_case(spacy_embeddings, EmbeddingDistance.CHEBYSHEV)"
   ]
  }
 ],
 "metadata": {
  "kernelspec": {
   "display_name": ".venv",
   "language": "python",
   "name": "python3"
  },
  "language_info": {
   "codemirror_mode": {
    "name": "ipython",
    "version": 3
   },
   "file_extension": ".py",
   "mimetype": "text/x-python",
   "name": "python",
   "nbconvert_exporter": "python",
   "pygments_lexer": "ipython3",
   "version": "3.11.6"
  }
 },
 "nbformat": 4,
 "nbformat_minor": 2
}
